{
 "cells": [
  {
   "cell_type": "code",
   "execution_count": null,
   "metadata": {
    "collapsed": true
   },
   "outputs": [],
   "source": [
    "import math"
   ]
  },
  {
   "cell_type": "markdown",
   "metadata": {},
   "source": [
    "# Schreibmaschinendistanz\n",
    "\n",
    "Gewichtung der Tippfehler-Distanzen anhand des sprachspezifischen Tastatur-Layouts. Für Rechtschreibfehlererkennung sind nur Zeichen des Alphabets relevant, vom Prinzip her könnte dieser Algorithmus jedoch auf alle Zeichen einer Tastatur erweitert werden."
   ]
  },
  {
   "cell_type": "code",
   "execution_count": null,
   "metadata": {
    "collapsed": false
   },
   "outputs": [],
   "source": [
    "# Tastatur-Layout für deutsch/östereichische Tastaturen\n",
    "# Für andere Sprachen ist das Tastatur-Layout entsprechend zu definieren.\n",
    "\n",
    "# Jeder Schlüssel des Dictionaries repräsentiert eine Taste auf der Tastatur.\n",
    "# Die direkt angrenzenden Tasten werden als Liste repräsentiert.\n",
    "layoutDE = {\n",
    "    'a':['q','s','w','y'],\n",
    "    'b':['g','h','n','v'],\n",
    "    'c':['x','d','f','v'],\n",
    "    'd':['s','e','r','f','c','x'],\n",
    "    'e':['w','r','d','s'],\n",
    "    'f':['d','r','t','g','v','c'],\n",
    "    'g':['f','t','z','h','b','v'],\n",
    "    'h':['g','z','u','j','n','b'],\n",
    "    'i':['u','o','k','j'],\n",
    "    'j':['h','u','i','k','m','n'],\n",
    "    'k':['j','i','o','l','m'],\n",
    "    'l':['k','o','p','ö'],\n",
    "    'm':['n','j','k'],\n",
    "    'n':['b','h','j','m'],\n",
    "    'o':['i','p','l','k'],\n",
    "    'p':['o','ß','ü','ö','l'],\n",
    "    'q':['w','a'],\n",
    "    'r':['e','t','f','d'],\n",
    "    's':['a','w','e','d','x','y'],\n",
    "    't':['r','z','g','f'],\n",
    "    'u':['z','i','j','h'],\n",
    "    'v':['c','f','g','b'],\n",
    "    'w':['q','e','s','a'],\n",
    "    'v':['c','f','g','b'],\n",
    "    'x':['y','s','d','c'],\n",
    "    'y':['a','s','x'],\n",
    "    'z':['t','u','h','g'],\n",
    "    'ä':['ö','ü'],\n",
    "    'ö':['l','p','ü','ä'],\n",
    "    'ü':['p','ß','ä','ö'],\n",
    "    'ß':['ü','p']\n",
    "}"
   ]
  },
  {
   "cell_type": "code",
   "execution_count": null,
   "metadata": {
    "collapsed": false
   },
   "outputs": [],
   "source": [
    "class typewriter_distance:\n",
    "    \n",
    "    def __init__(self, keyboardLayoutGraph):\n",
    "        \"\"\"\n",
    "            :type keyboardLayoutGraph: dictionary with keyboard characters as keys, \n",
    "                                       values are lists of their surrounding characters\n",
    "        \"\"\"\n",
    "        self._layout = keyboardLayoutGraph\n",
    "        self._knoten = list(self._layout.keys()) \n",
    "        self._kanten = [] # Liste von 3-Tupeln (knoten1, knoten2, kosten)\n",
    "    \n",
    "        for k1 in self._knoten:\n",
    "            self._kanten.extend([(k1,k2,1) for k2 in self._layout[k1]])\n",
    "\n",
    "    def shortestPath(self, start, ziel):\n",
    "        # Source: https://de.wikibooks.org/wiki/Algorithmensammlung:_Graphentheorie:_Dijkstra-Algorithmus \n",
    "        # Adaptierte Implementierung von Dijkstra's Algorithmus\n",
    "        #\n",
    "        # start ist der Knoten, in dem die Suche startet\n",
    "        # ziel ist der Knoten, zu dem ein Weg gesucht werden soll\n",
    "        # Gibt ein Tupel zurück mit dem Weg und den Kosten \n",
    "        #\n",
    "        knotenEigenschaften = [ [i, float('inf'), None, False] for i in self._knoten if i != start ]\n",
    "        knotenEigenschaften += [ [start, 0, None, False] ]\n",
    "        for i in range(len(knotenEigenschaften)):\n",
    "            knotenEigenschaften[i] += [ i ]\n",
    "\n",
    "        while True:\n",
    "            unbesuchteKnotenIterator = filter(lambda x: not x[3], knotenEigenschaften)\n",
    "            unbesuchteKnoten=list(unbesuchteKnotenIterator)\n",
    "            if not unbesuchteKnoten:\n",
    "                break\n",
    "            sortierteListe = sorted(unbesuchteKnoten, key=lambda i: i[1])\n",
    "            # knoten mit geringsten Kosten als besucht markieren\n",
    "            aktiverKnoten = sortierteListe[0]\n",
    "            knotenEigenschaften[aktiverKnoten[4]][3] = True\n",
    "            if aktiverKnoten[0] == ziel:\n",
    "                # zielknoten erreicht, terminieren\n",
    "                break\n",
    "            # von aktivem Knoten ausgehende Kanten ermitteln    \n",
    "            aktiveKanten = list(filter(lambda x: x[0] == aktiverKnoten[0], self._kanten))\n",
    "            for kante in aktiveKanten:\n",
    "                # zielknoten liste ermitteln\n",
    "                andereKnotenListe=list(filter(lambda x: x[0] == kante[1], knotenEigenschaften))\n",
    "                andererKnotenId=andereKnotenListe[0][4]\n",
    "                gewichtSumme = aktiverKnoten[1] + kante[2]\n",
    "                if gewichtSumme < knotenEigenschaften[andererKnotenId][1]:\n",
    "                    # kürzeren Weg zum zielknoten gefunden\n",
    "                    knotenEigenschaften[andererKnotenId][1] = gewichtSumme\n",
    "                    knotenEigenschaften[andererKnotenId][2] = aktiverKnoten[4]\n",
    "\n",
    "\n",
    "        if aktiverKnoten[0] == ziel:\n",
    "            weg = []\n",
    "            weg += [ aktiverKnoten[0] ]\n",
    "\n",
    "            kosten = aktiverKnoten[1]\n",
    "            while aktiverKnoten[0] != start:\n",
    "                # pfad des kürzesten Weges ermitteln\n",
    "                aktiverKnoten = knotenEigenschaften[aktiverKnoten[2]]\n",
    "                weg += [ aktiverKnoten[0] ]\n",
    "\n",
    "            weg.reverse()\n",
    "            return (weg, kosten)\n",
    "        else:\n",
    "            raise Exception(\"Kein Weg gefunden zwischen\",str(start),\" und \",ziel)\n",
    "            \n",
    "    def distance(self,x,y):\n",
    "        # Ermittelt die Typewriter Distanz zwischen zwei Buchstaben\n",
    "        return self.shortestPath(x,y)[1]\n",
    "    \n",
    "    def weight (self,c1,c2):\n",
    "        # Gewichtung anhand der Entfernung zweier Buchstaben\n",
    "        return 1-1/(2**self.distance(c1,c2))"
   ]
  },
  {
   "cell_type": "code",
   "execution_count": null,
   "metadata": {
    "collapsed": true
   },
   "outputs": [],
   "source": [
    "twd = typewriter_distance(layoutDE)"
   ]
  },
  {
   "cell_type": "code",
   "execution_count": null,
   "metadata": {
    "collapsed": false
   },
   "outputs": [],
   "source": [
    "# kürzester Pfad zwischen zwei Tasten\n",
    "\n",
    "print(twd.shortestPath('s', 'f'))\n",
    "print(twd.shortestPath('s', 'r'))\n",
    "print(twd.shortestPath('p', 's'))\n",
    "print(twd.shortestPath('y', 'ß'))"
   ]
  },
  {
   "cell_type": "code",
   "execution_count": null,
   "metadata": {
    "collapsed": true
   },
   "outputs": [],
   "source": [
    "def weight (c1,c2):\n",
    "    return 1-1/(2**twd.distance(c1,c2))"
   ]
  },
  {
   "cell_type": "code",
   "execution_count": null,
   "metadata": {
    "collapsed": false
   },
   "outputs": [],
   "source": [
    "print(twd.weight('s', 'd'))\n",
    "print(twd.weight('s', 'r'))\n",
    "print(twd.weight('p', 's'))\n",
    "print(twd.weight('y', 'ß'))"
   ]
  },
  {
   "cell_type": "markdown",
   "metadata": {},
   "source": [
    "# Modifizierte Levenshtein Distanz\n",
    "\n",
    "Substituierte Zeichen werden anhand ihrer Typewriter Distance gewichtet. "
   ]
  },
  {
   "cell_type": "code",
   "execution_count": null,
   "metadata": {
    "collapsed": false
   },
   "outputs": [],
   "source": [
    "# basierend auf https://en.wikibooks.org/wiki/Algorithm_Implementation/Strings/Levenshtein_distance\n",
    "\"\"\"\n",
    "Compute the Levenshtein distance between two given strings (s1 and s2). \n",
    "Cost of substitutions are weighted by the  distance of the subsituted character on a keyboard. \n",
    "\"\"\"\n",
    "def levenshtein_typewriter_distance(s1, s2):\n",
    "    if len(s1) < len(s2):\n",
    "        return levenshtein_typewriter_distance(s2, s1)\n",
    "\n",
    "    # len(s1) >= len(s2)\n",
    "    if len(s2) == 0:\n",
    "        return len(s1)\n",
    "\n",
    "    previous_row = range(len(s2) + 1)\n",
    "    for i, c1 in enumerate(s1):\n",
    "        current_row = [i + 1]\n",
    "        for j, c2 in enumerate(s2):\n",
    "            insertions = previous_row[j + 1] + 1 # j+1 instead of j since previous_row and current_row are one character longer\n",
    "            deletions = current_row[j] + 1       # than s2\n",
    "            cost = 0 if c1 == c2 else twd.weight(c1,c2)\n",
    "            substitutions = previous_row[j] + cost\n",
    "            current_row.append(min(insertions, deletions, substitutions))\n",
    "        previous_row = current_row\n",
    "    \n",
    "    return previous_row[-1]"
   ]
  },
  {
   "cell_type": "code",
   "execution_count": null,
   "metadata": {
    "collapsed": false
   },
   "outputs": [],
   "source": [
    "levenshtein_typewriter_distance('fliegen','floegen')"
   ]
  },
  {
   "cell_type": "markdown",
   "metadata": {},
   "source": [
    "# Modifizierte Damerau-Levenshtein Distanz\n",
    "\n",
    "Substituierte Zeichen werden anhand ihrer Typewriter Distance gewichtet. "
   ]
  },
  {
   "cell_type": "code",
   "execution_count": null,
   "metadata": {
    "collapsed": false
   },
   "outputs": [],
   "source": [
    "# basierend auf https://www.guyrutenberg.com/2008/12/15/damerau-levenshtein-distance-in-python/\n",
    "\"\"\"\n",
    "Compute the Damerau-Levenshtein distance between two given strings (s1 and s2). \n",
    "Cost of substitutions are weighted by the  distance of the subsituted character on a keyboard. \n",
    "\"\"\"\n",
    "def damerau_levenshtein_typewriter_distance(a, b):\n",
    "    # \"Infinity\" -- greater than maximum possible edit distance\n",
    "    # Used to prevent transpositions for first characters\n",
    "    INF = len(a) + len(b)\n",
    "\n",
    "    # Matrix: (M + 2) x (N + 2)\n",
    "    matrix  = [[INF for n in range(len(b) + 2)]]\n",
    "    matrix += [[INF] + [n for n in range(len(b) + 1)]]\n",
    "    matrix += [[INF, m] + [0] * len(b) for m in range(1, len(a) + 1)]\n",
    "\n",
    "    # Holds last row each element was encountered: DA in the Wikipedia pseudocode\n",
    "    last_row = {}\n",
    "\n",
    "    # Fill in costs\n",
    "    for row in range(1, len(a) + 1):\n",
    "        # Current character in a\n",
    "        ch_a = a[row-1]\n",
    "\n",
    "        # Column of last match on this row: DB in pseudocode\n",
    "        last_match_col = 0\n",
    "\n",
    "        for col in range(1, len(b) + 1):\n",
    "            # Current character in b\n",
    "            ch_b = b[col-1]\n",
    "\n",
    "            # Last row with matching character\n",
    "            last_matching_row = last_row.get(ch_b, 0)\n",
    "\n",
    "            # Cost of substitution\n",
    "            cost = 0 if ch_a == ch_b else twd.weight(ch_a,ch_b)\n",
    "\n",
    "            # Compute substring distance\n",
    "            matrix[row+1][col+1] = min(\n",
    "                matrix[row][col] + cost, # Substitution\n",
    "                matrix[row+1][col] + 1,  # Addition\n",
    "                matrix[row][col+1] + 1,  # Deletion\n",
    "\n",
    "                # Transposition\n",
    "                # Start by reverting to cost before transposition\n",
    "                matrix[last_matching_row][last_match_col]\n",
    "                    # Cost of letters between transposed letters\n",
    "                    # 1 addition + 1 deletion = 1 substitution\n",
    "                    + max((row - last_matching_row - 1),\n",
    "                          (col - last_match_col - 1))\n",
    "                    # Cost of the transposition itself\n",
    "                    + 1)\n",
    "\n",
    "            # If there was a match, update last_match_col\n",
    "            if cost == 0:\n",
    "                last_match_col = col\n",
    "\n",
    "        # Update last row for current character\n",
    "        last_row[ch_a] = row\n",
    "\n",
    "    # Return last element\n",
    "    return matrix[-1][-1]"
   ]
  },
  {
   "cell_type": "code",
   "execution_count": null,
   "metadata": {
    "collapsed": false
   },
   "outputs": [],
   "source": [
    "damerau_levenshtein_typewriter_distance('fliegen','floegen')"
   ]
  }
 ],
 "metadata": {
  "kernelspec": {
   "display_name": "Python 3",
   "language": "python",
   "name": "python3"
  },
  "language_info": {
   "codemirror_mode": {
    "name": "ipython",
    "version": 3
   },
   "file_extension": ".py",
   "mimetype": "text/x-python",
   "name": "python",
   "nbconvert_exporter": "python",
   "pygments_lexer": "ipython3",
   "version": "3.5.1rc1"
  }
 },
 "nbformat": 4,
 "nbformat_minor": 0
}
