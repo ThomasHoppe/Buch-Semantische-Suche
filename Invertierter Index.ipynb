{
 "cells": [
  {
   "cell_type": "code",
   "execution_count": 1,
   "metadata": {
    "collapsed": true
   },
   "outputs": [],
   "source": [
    "import re\n",
    "from IPython.display import display, HTML "
   ]
  },
  {
   "cell_type": "markdown",
   "metadata": {},
   "source": [
    "# Implementierung eines einfachen Invertierter Index\n",
    "\n",
    "Basierend auf https://medium.com/@fro_g/writing-a-simple-inverted-index-in-python-3c8bcb52169a "
   ]
  },
  {
   "cell_type": "markdown",
   "metadata": {},
   "source": [
    "## Basis-Datenstrukturen\n",
    "\n",
    "Zur vereinfachten Inspektion wird die Häufigkeit eines Terms pro Dokument in der *Apperance* als Dictionary\n",
    "mit den beiden Schlüsseln *docId* und *frequency* gespeichert. Hier durch ist die Datenstruktur\n",
    "zwar einfach interpretierbar aber stark redundant. Kompakter wäre die Repräsentation durch ein Python-Tupel.\n",
    "\n",
    "Die Database ist eine einfache In-Memory-Datenbank. Persistente Speicherung dieser DB ist bisher nicht implementiert."
   ]
  },
  {
   "cell_type": "code",
   "execution_count": 2,
   "metadata": {
    "collapsed": true
   },
   "outputs": [],
   "source": [
    "class Appearance:\n",
    "    \"\"\"\n",
    "    Represents the appearance of a term in a given document, along with the\n",
    "    frequency of appearances in the same one.\n",
    "    \"\"\"\n",
    "    def __init__(self, docId, frequency):\n",
    "        self.docId = docId\n",
    "        self.frequency = frequency\n",
    "\n",
    "    def __repr__(self):\n",
    "        \"\"\"\n",
    "        String representation of the Appearance object\n",
    "        \"\"\"\n",
    "        return str(self.__dict__)\n",
    "    \n",
    "class Database:\n",
    "    \"\"\"\n",
    "    In memory database representing the already indexed documents.\n",
    "    \"\"\"\n",
    "    def __init__(self):\n",
    "        self.db = dict()\n",
    "\n",
    "    def __repr__(self):\n",
    "        \"\"\"\n",
    "        String representation of the Database object\n",
    "        \"\"\"\n",
    "        return str(self.__dict__)\n",
    "    \n",
    "    def get(self, id):\n",
    "        return self.db.get(id, None)\n",
    "    \n",
    "    def add(self, document):\n",
    "        \"\"\"\n",
    "        Adds a document to the DB.\n",
    "        \"\"\"\n",
    "        return self.db.update({document['id']: document})\n",
    "\n",
    "    def remove(self, document):\n",
    "        \"\"\"\n",
    "        Removes document from DB.\n",
    "        \"\"\"\n",
    "        return self.db.pop(document['id'], None)"
   ]
  },
  {
   "cell_type": "markdown",
   "metadata": {},
   "source": [
    "## Invertierter Index\n",
    "\n",
    "*index_document* ist die zentrale Funktion zur Integration eines neuen Dokuments in den invertierten Index. \n",
    "Diese Funktion nutzt eine simple *whitespace tokenization* und entfernt radikal alle Satzzeichen (auch Satzzeichen die in Termen verwendet werden). Für eine reale Implementierung sind sowohl die Tokenization als auch die Löschung der Satzzeichen separat durchzuführen und *index_document* so umzubauen, dass es nur noch eine Tokenliste nutzt.\n",
    "\n",
    "Darüberhinaus wird keine weitere Normalisierung der Terme durchgeführt. Dies kann als kleine Übungsaufgabe integriert werden."
   ]
  },
  {
   "cell_type": "code",
   "execution_count": 3,
   "metadata": {
    "collapsed": true
   },
   "outputs": [],
   "source": [
    "class InvertedIndex:\n",
    "    \"\"\"\n",
    "    Inverted Index class.\n",
    "    \"\"\"\n",
    "    def __init__(self, db):\n",
    "        self.index = dict()\n",
    "        self.db = db\n",
    "\n",
    "    def __repr__(self):\n",
    "        \"\"\"\n",
    "        String representation of the Database object\n",
    "        \"\"\"\n",
    "        return str(self.index)\n",
    "        \n",
    "    def index_document(self, document):\n",
    "        \"\"\"\n",
    "        Process a given document, save it to the DB and update the index.\n",
    "        \"\"\"\n",
    "        \n",
    "        # Remove punctuation from the text.\n",
    "        clean_text = re.sub(r'[^\\w\\s]','', document['text'])\n",
    "        terms = clean_text.split(' ')\n",
    "        appearances_dict = dict()\n",
    "\n",
    "        # Dictionary with each term and the frequency it appears in the text.\n",
    "        for term in terms:\n",
    "            term_frequency = appearances_dict[term].frequency if term in appearances_dict else 0\n",
    "            appearances_dict[term] = Appearance(document['id'], term_frequency + 1)\n",
    "            \n",
    "        # Update the inverted index\n",
    "        update_dict = { key: [appearance]\n",
    "                       if key not in self.index\n",
    "                       else self.index[key] + [appearance]\n",
    "                       for (key, appearance) in appearances_dict.items() }\n",
    "\n",
    "        self.index.update(update_dict)\n",
    "\n",
    "        # Add the document into the database\n",
    "        self.db.add(document)\n",
    "\n",
    "        return document\n",
    "    \n",
    "    def lookup_query(self, query):\n",
    "        \"\"\"\n",
    "        Returns the dictionary of terms with their correspondent Appearances. \n",
    "        This is a very naive search since it will just split the terms and show\n",
    "        the documents where they appear.\n",
    "        \"\"\"\n",
    "        return { term: self.index[term] for term in query.split(' ') if term in self.index }"
   ]
  },
  {
   "cell_type": "markdown",
   "metadata": {},
   "source": [
    "## Hilfsfunktion zur Hervorhebung von gefundenen Termen"
   ]
  },
  {
   "cell_type": "code",
   "execution_count": 4,
   "metadata": {
    "collapsed": true
   },
   "outputs": [],
   "source": [
    "def highlight_term(id, term, text):\n",
    "    #replaced_text = text.replace(term, \"\\033[1;32;40m {term} \\033[0;0m\".format(term=term))\n",
    "    replaced_text = text.replace(term, '<b>{term}</b>'.format(term=term))\n",
    "    return \"--- document {id}: {replaced}\".format(id=id, replaced=replaced_text)"
   ]
  },
  {
   "cell_type": "markdown",
   "metadata": {},
   "source": [
    "## Testdaten"
   ]
  },
  {
   "cell_type": "code",
   "execution_count": 5,
   "metadata": {
    "collapsed": false
   },
   "outputs": [
    {
     "data": {
      "text/plain": [
       "{'id': '3', 'text': 'Brussels is the capital of Belgium.'}"
      ]
     },
     "execution_count": 5,
     "metadata": {},
     "output_type": "execute_result"
    }
   ],
   "source": [
    "db = Database()\n",
    "index = InvertedIndex(db)\n",
    "\n",
    "document1 = {\n",
    "    'id': '1',\n",
    "    'text': 'The big sharks of Belgium drink beer.'\n",
    "}\n",
    "\n",
    "document2 = {\n",
    "    'id': '2',\n",
    "    'text': 'Belgium has great beer. They drink beer all the time.'\n",
    "}\n",
    "\n",
    "document3 = {\n",
    "    'id': '3',\n",
    "    'text': 'Brussels is the capital of Belgium.'\n",
    "}\n",
    "\n",
    "\n",
    "index.index_document(document1)\n",
    "index.index_document(document2)\n",
    "index.index_document(document3)"
   ]
  },
  {
   "cell_type": "code",
   "execution_count": 6,
   "metadata": {
    "collapsed": false
   },
   "outputs": [
    {
     "name": "stdout",
     "output_type": "stream",
     "text": [
      "{'db': {'1': {'text': 'The big sharks of Belgium drink beer.', 'id': '1'}, '3': {'text': 'Brussels is the capital of Belgium.', 'id': '3'}, '2': {'text': 'Belgium has great beer. They drink beer all the time.', 'id': '2'}}}\n"
     ]
    }
   ],
   "source": [
    "print(db)"
   ]
  },
  {
   "cell_type": "code",
   "execution_count": 7,
   "metadata": {
    "collapsed": false
   },
   "outputs": [
    {
     "name": "stdout",
     "output_type": "stream",
     "text": [
      "{'all': [{'docId': '2', 'frequency': 1}], 'the': [{'docId': '2', 'frequency': 1}, {'docId': '3', 'frequency': 1}], 'time': [{'docId': '2', 'frequency': 1}], 'of': [{'docId': '1', 'frequency': 1}, {'docId': '3', 'frequency': 1}], 'They': [{'docId': '2', 'frequency': 1}], 'drink': [{'docId': '1', 'frequency': 1}, {'docId': '2', 'frequency': 1}], 'The': [{'docId': '1', 'frequency': 1}], 'Belgium': [{'docId': '1', 'frequency': 1}, {'docId': '2', 'frequency': 1}, {'docId': '3', 'frequency': 1}], 'is': [{'docId': '3', 'frequency': 1}], 'capital': [{'docId': '3', 'frequency': 1}], 'sharks': [{'docId': '1', 'frequency': 1}], 'beer': [{'docId': '1', 'frequency': 1}, {'docId': '2', 'frequency': 2}], 'Brussels': [{'docId': '3', 'frequency': 1}], 'great': [{'docId': '2', 'frequency': 1}], 'big': [{'docId': '1', 'frequency': 1}], 'has': [{'docId': '2', 'frequency': 1}]}\n"
     ]
    }
   ],
   "source": [
    "print(index)"
   ]
  },
  {
   "cell_type": "code",
   "execution_count": 9,
   "metadata": {
    "collapsed": false
   },
   "outputs": [
    {
     "name": "stdout",
     "output_type": "stream",
     "text": [
      "Enter term(s) to search: Belgium beer\n"
     ]
    },
    {
     "data": {
      "text/html": [
       "--- document 1: The big sharks of Belgium drink <b>beer</b>."
      ],
      "text/plain": [
       "<IPython.core.display.HTML object>"
      ]
     },
     "metadata": {},
     "output_type": "display_data"
    },
    {
     "data": {
      "text/html": [
       "--- document 2: Belgium has great <b>beer</b>. They drink <b>beer</b> all the time."
      ],
      "text/plain": [
       "<IPython.core.display.HTML object>"
      ]
     },
     "metadata": {},
     "output_type": "display_data"
    },
    {
     "name": "stdout",
     "output_type": "stream",
     "text": [
      "-----------------------------\n"
     ]
    },
    {
     "data": {
      "text/html": [
       "--- document 1: The big sharks of <b>Belgium</b> drink beer."
      ],
      "text/plain": [
       "<IPython.core.display.HTML object>"
      ]
     },
     "metadata": {},
     "output_type": "display_data"
    },
    {
     "data": {
      "text/html": [
       "--- document 2: <b>Belgium</b> has great beer. They drink beer all the time."
      ],
      "text/plain": [
       "<IPython.core.display.HTML object>"
      ]
     },
     "metadata": {},
     "output_type": "display_data"
    },
    {
     "data": {
      "text/html": [
       "--- document 3: Brussels is the capital of <b>Belgium</b>."
      ],
      "text/plain": [
       "<IPython.core.display.HTML object>"
      ]
     },
     "metadata": {},
     "output_type": "display_data"
    },
    {
     "name": "stdout",
     "output_type": "stream",
     "text": [
      "-----------------------------\n"
     ]
    }
   ],
   "source": [
    "search_term = input(\"Enter term(s) to search: \")\n",
    "result = index.lookup_query(search_term)\n",
    "\n",
    "for term in result.keys():\n",
    "    for appearance in result[term]:\n",
    "        # Belgium: { docId: 1, frequency: 1}\n",
    "        document = db.get(appearance.docId)\n",
    "        display(HTML(highlight_term(appearance.docId, term, document['text'])))\n",
    "    print(\"-----------------------------\")    "
   ]
  },
  {
   "cell_type": "code",
   "execution_count": null,
   "metadata": {
    "collapsed": true
   },
   "outputs": [],
   "source": []
  }
 ],
 "metadata": {
  "kernelspec": {
   "display_name": "Python 3",
   "language": "python",
   "name": "python3"
  },
  "language_info": {
   "codemirror_mode": {
    "name": "ipython",
    "version": 3
   },
   "file_extension": ".py",
   "mimetype": "text/x-python",
   "name": "python",
   "nbconvert_exporter": "python",
   "pygments_lexer": "ipython3",
   "version": "3.5.1rc1"
  }
 },
 "nbformat": 4,
 "nbformat_minor": 0
}
