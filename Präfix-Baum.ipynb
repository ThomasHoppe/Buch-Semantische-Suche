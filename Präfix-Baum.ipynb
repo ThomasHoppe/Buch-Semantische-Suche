{
 "cells": [
  {
   "cell_type": "markdown",
   "metadata": {},
   "source": [
    "# Implementierung von Präfix-Baum und Radix-Tree (PATRICIA-Trie)\n",
    "Basierend auf http://christianherta.de/lehre/informationRetrieval/trie.php\n",
    "\n",
    "## Präfix-Baum Interface\n",
    "Die *delete-Methode* ist als Übung zu implementieren."
   ]
  },
  {
   "cell_type": "code",
   "execution_count": 11,
   "metadata": {
    "collapsed": true
   },
   "outputs": [],
   "source": [
    "import abc\n",
    "\n",
    "class TrieI(object):\n",
    "    \n",
    "    __metaclass__ = abc.ABCMeta\n",
    "    \n",
    "    @abc.abstractmethod\n",
    "    def insert(self, k, v):\n",
    "        \"\"\"\n",
    "            Insert a key and a value into the Trie.           \n",
    "        \"\"\"\n",
    "        return\n",
    "    \n",
    "    @abc.abstractmethod\n",
    "    def has_key(self, k):\n",
    "        \"\"\"\n",
    "            Check if the key was already inserted into the trie. Should return a boolean value.\n",
    "        \"\"\"\n",
    "        return\n",
    "    \n",
    "    @abc.abstractmethod\n",
    "    def get_value(self, k):\n",
    "        \"\"\"\n",
    "            Get the value for the key\n",
    "            If the key is not present, return None.\n",
    "        \"\"\"\n",
    "        return\n",
    "    \n",
    "    @abc.abstractmethod\n",
    "    def start_with_prefix(self, prefix):\n",
    "        \"\"\"\n",
    "            Give all keys (as list) with the given prefix.\n",
    "            If there is no such a prefix in the trie, return empty list.\n",
    "        \"\"\"\n",
    "        return\n",
    "    \n",
    "    # exercise:\n",
    "    #@abc.abstractmethod\n",
    "    #def delete(self, key):\n",
    "        #\"\"\"\n",
    "        #    Delete the Key-Value Pair from the Trie\n",
    "        #\"\"\"\n",
    "        #return\n",
    "    "
   ]
  },
  {
   "cell_type": "markdown",
   "metadata": {},
   "source": []
  },
  {
   "cell_type": "markdown",
   "metadata": {},
   "source": [
    "## Implementierung des Präfix-Baum\n",
    "Default-mäßig werden als Schlüssel des Präfix-Baum Zeichenketten verwendet. Durch eine entsprechende Definition der *key_concatenation_func* können auch andere sequentielle Datenstrukturen (wie z.B. Listen) als Schlüssel verwendet werden.\n",
    "\n",
    "Die *delete-methode* ist als Übung selbst zu implementieren."
   ]
  },
  {
   "cell_type": "code",
   "execution_count": 12,
   "metadata": {
    "collapsed": true
   },
   "outputs": [],
   "source": [
    "class TrieNode(TrieI):\n",
    "    \n",
    "    def __init__(self, k=\"\", key_concatenation_func=None):\n",
    "        \"\"\"\n",
    "            :type k: has to be the type of the key \n",
    "            :param k: empty string or list\n",
    "            :type key_concatenation_func: function\n",
    "            :param key_concatenation_func: operation for concatenation of the key-elements to reconstruct\n",
    "                                              the key from it's elementes\n",
    "        \"\"\"\n",
    "        self._children = {}\n",
    "        self._value = None \n",
    "        self.k_init = k\n",
    "        if key_concatenation_func is None:\n",
    "            # standard keys are strings\n",
    "            self.key_concatenation_func = self._strjoin\n",
    "        else:\n",
    "            self.key_concatenation_func = key_concatenation_func\n",
    "    \n",
    "    def _strjoin(self,a, b):\n",
    "        return \"\".join([a,b])\n",
    "    \n",
    "    # standard behaviour for the insertion of a value:\n",
    "    def _update_value(self, v):\n",
    "        self._value = v\n",
    "        \n",
    "    def insert(self, k, v):     \n",
    "        if len(k) == 0: \n",
    "            self._update_value(v)\n",
    "            return\n",
    "        if k[0] not in self._children: \n",
    "           # type(self) get's the current type for calling the appropriate constructor in subclasses\n",
    "           self._children[k[0]] = type(self)(self.k_init , key_concatenation_func=self.key_concatenation_func)\n",
    "        self._children[k[0]].insert(k[1:], v)\n",
    "            \n",
    "    def has_key(self, k):\n",
    "        if len(k) == 0:\n",
    "            if self._value is not None:\n",
    "                return True\n",
    "            else:\n",
    "                return False\n",
    "        if k[0] not in self._children:\n",
    "            return False\n",
    "        return self._children[k[0]].has_key(k[1:])\n",
    "    \n",
    "    def get_value(self, k):\n",
    "        if len(k) == 0 :\n",
    "            return self._value\n",
    "        if k[0] not in self._children:\n",
    "            return None\n",
    "        return self._children[k[0]].get_value(k[1:])\n",
    "    \n",
    "    def _subtree_keys(self, result, key):\n",
    "        if self._value is not None:\n",
    "            result.append(key)\n",
    "        for k, v in self._children.items():\n",
    "            result = v._subtree_keys(result, self.key_concatenation_func(key, k))\n",
    "        return result\n",
    "    \n",
    "    def start_with_prefix(self, prefix):\n",
    "        return self._start_with_prefix(prefix, prefix)\n",
    "    \n",
    "    def _start_with_prefix(self, prefix, key=None):\n",
    "        # collect all subtree nodes\n",
    "        if len(prefix) == 0: \n",
    "            return self._subtree_keys([], key)\n",
    "        if prefix[0] not in self._children:\n",
    "            return []\n",
    "        # decend down tree until prefix is exhausted\n",
    "        return self._children[prefix[0]]._start_with_prefix(prefix[1:], key)"
   ]
  },
  {
   "cell_type": "code",
   "execution_count": 13,
   "metadata": {
    "collapsed": false
   },
   "outputs": [
    {
     "name": "stdout",
     "output_type": "stream",
     "text": [
      "['karl', 'karlson', 'karlsons', 'karlchen']\n"
     ]
    }
   ],
   "source": [
    "trie = TrieNode()\n",
    "trie.insert('karl', 10)\n",
    "trie.insert('karlchen', 13)\n",
    "trie.insert('karlson', 3)\n",
    "trie.insert('karlsons', 7)\n",
    "trie.insert('something', 1)\n",
    "\n",
    "assert trie.has_key('karlchen') is True\n",
    "assert trie.get_value('karlchen') == 13\n",
    "assert trie.has_key('nothing') is False\n",
    "assert trie.get_value('nothing') == None\n",
    "\n",
    "print(trie.start_with_prefix('kar'))\n",
    "#print(trie.start_with_prefix('karls'))\n",
    "#print(trie.start_with_prefix(''))\n",
    "#print(trie.start_with_prefix('nothing'))\n"
   ]
  },
  {
   "cell_type": "code",
   "execution_count": 14,
   "metadata": {
    "collapsed": false
   },
   "outputs": [
    {
     "data": {
      "text/plain": [
       "['something', 'karl', 'karlson', 'karlsons', 'karlchen']"
      ]
     },
     "execution_count": 14,
     "metadata": {},
     "output_type": "execute_result"
    }
   ],
   "source": [
    "trie._subtree_keys([], '')"
   ]
  },
  {
   "cell_type": "markdown",
   "metadata": {},
   "source": [
    "## Implementierung des Radix-Tree\n",
    "Default-mäßig werden als Schlüssel des Radix-Tree Zeichenketten verwendet. \n",
    "\n",
    "Um andere sequentielle Datenstrukturen (wie z.B. Listen) als Schlüssel zu verwenden sind sowohl die *key_concatenation_func* zu definieren, als auch alle Vorkommen von *k.startswith(self._prefix)* entsprechend anzupassen.\n",
    "\n",
    "Die *delete-methode* ist als Übung selbst zu implementieren."
   ]
  },
  {
   "cell_type": "code",
   "execution_count": 15,
   "metadata": {
    "collapsed": false
   },
   "outputs": [],
   "source": [
    "class RadixTreeNode(TrieNode):\n",
    "    \n",
    "    nodes = 0\n",
    "    \n",
    "    def __init__(self, k=\"\", key_concatenation_func=None):\n",
    "        \"\"\"\n",
    "        Implements a Radix Tree on the basis of TrieNode\n",
    "            :type k: has to be the type of the key \n",
    "            :param k: empty string or list\n",
    "            :type key_concatenation_func: function\n",
    "            :param key_concatenation_func: operation for concatenation of the key-elements to reconstruct\n",
    "                                              the key from it's elementes\n",
    "        Instead of maintaining a single dictionary _children for the next element, its _prefix variable\n",
    "        contains the prefix common to all children and _children just a map to the next differing elements.\n",
    "        Thus, _prefix can contain longer sequences of elements which are common to all of its children. In the\n",
    "        worts case (all children differ), it is equivalent to a TrieNode.\n",
    "        \"\"\"\n",
    "        \n",
    "        self._children = {}\n",
    "        self._value = None\n",
    "        self._prefix = None\n",
    "        self.k_init = k\n",
    "        if key_concatenation_func is None:\n",
    "            # standard keys are strings\n",
    "            self.key_concatenation_func = self._strjoin\n",
    "        else:\n",
    "            self.key_concatenation_func = key_concatenation_func\n",
    "            \n",
    "    def _strjoin(self,a, b):\n",
    "        return \"\".join([a,b])\n",
    "    \n",
    "    # greatest common prefix\n",
    "    def _greatest_common_prefix(self, k):\n",
    "        # return gcs and index of remaining substring\n",
    "        i = 0\n",
    "        while i < min(len(k),len(self._prefix)) and k[i] == self._prefix[i]:\n",
    "            i += 1\n",
    "        return (self._prefix[:i],i)\n",
    "           \n",
    "    def insert(self, k, v):     \n",
    "        if len(k) == 0: \n",
    "            self._update_value(v)\n",
    "            return\n",
    "        if self._prefix == None or self._prefix == k:\n",
    "            self._prefix = k\n",
    "            self._value = v\n",
    "            return\n",
    "        (gcs,i) = self._greatest_common_prefix(k)\n",
    "        if gcs == self._prefix: \n",
    "            if k[i] not in self._children: \n",
    "                # type(self) get's the current type for calling the appropriate constructor in subclasses\n",
    "                self._children[k[i]] = type(self)(self.k_init , key_concatenation_func=self.key_concatenation_func)\n",
    "            self._children[k[i]].insert(k[i:], v)\n",
    "        else:\n",
    "            # gcs is smaller than _prefix\n",
    "            # create new child\n",
    "            newNode = type(self)(self.k_init , key_concatenation_func=self.key_concatenation_func)\n",
    "            # push down self's _children to the new node\n",
    "            newNode._children = self._children\n",
    "            # push down value to new node\n",
    "            newNode._value = self._value\n",
    "            # init new nodes prefix with rest of own prefix\n",
    "            newNode._prefix = self._prefix[i:]\n",
    "            # new node becomes child of self at first diverging element\n",
    "            self._children = dict({self._prefix[i]: newNode})\n",
    "            # update _prefix with new gcd\n",
    "            self._prefix = gcs\n",
    "            # if the gcs equals the key, we need to set the value of the node, since the string is exhaused, \n",
    "            # otherwise the value needs to be resetto None, since partial string was never seen before\n",
    "            self._value = v if gcs == k else None\n",
    "            if i < len(k):\n",
    "                # recurse down and set branching char\n",
    "                if k[i] not in self._children: \n",
    "                    # type(self) get's the current type for calling the appropriate constructor in subclasses\n",
    "                    self._children[k[i]] = type(self)(self.k_init , key_concatenation_func=self.key_concatenation_func)\n",
    "                self._children[k[i]].insert(k[i:], v)\n",
    "                \n",
    "    def has_key(self, k):\n",
    "        if self._prefix == None:\n",
    "            return False\n",
    "        if len(k) == 0 or k == self._prefix:\n",
    "            if self._value is not None:\n",
    "                return True\n",
    "            else:\n",
    "                return False\n",
    "        elif k.startswith(self._prefix):\n",
    "            i = len(self._prefix)\n",
    "            if k[i] not in self._children:\n",
    "                return False\n",
    "            return self._children[k[i]].has_key(k[i:])\n",
    "        elif not k.find(self._prefix):\n",
    "            if k[0] not in self._children:\n",
    "                return False\n",
    "            return self._children[k[0]].has_key(k)\n",
    "        else:\n",
    "            return False\n",
    "            \n",
    "    def get_value(self, k):\n",
    "        if len(k) == 0 or k == self._prefix:\n",
    "            return self._value\n",
    "        if k.startswith(self._prefix):\n",
    "            i = len(self._prefix)\n",
    "            if k[i] not in self._children:\n",
    "                return None\n",
    "            return self._children[k[i]].get_value(k[i:])\n",
    "        elif not k.find(self._prefix):\n",
    "            if k[0] not in self._children:\n",
    "                return None\n",
    "            return self._children[k[0]].get_value(k)\n",
    "        else:\n",
    "            return None   \n",
    " \n",
    "    def _subtree_keys(self, result, key):\n",
    "        if self._value and not key == '':\n",
    "            result.append(key)\n",
    "        for k, v in self._children.items():\n",
    "            result = v._subtree_keys(result, self.key_concatenation_func(key, v._prefix))\n",
    "        return result\n",
    "    \n",
    "    def start_with_prefix(self, prefix):\n",
    "        # this returns only proper keys, which are included in the trie\n",
    "        return self._start_with_prefix(prefix, prefix)\n",
    "\n",
    "    def _start_with_prefix(self, k, key):\n",
    "        # collect all subtree nodes\n",
    "        if len(k) == 0 or k == self._prefix:\n",
    "            return self._subtree_keys([], key)\n",
    "        if k.startswith(self._prefix):\n",
    "            i = len(self._prefix)\n",
    "            if k[i] not in self._children:\n",
    "                return []\n",
    "            return self._children[k[i]]._start_with_prefix(k[i:], key)\n",
    "        elif self._prefix.startswith(k):\n",
    "            return self._subtree_keys([], self.key_concatenation_func(key[:-len(k)], self._prefix))\n",
    "        elif not k.find(self._prefix):\n",
    "            if k[0] not in self._children:\n",
    "                return None\n",
    "            # return self._children[k[0]]._start_with_prefix(k,key)\n",
    "        else:\n",
    "            return [] "
   ]
  },
  {
   "cell_type": "code",
   "execution_count": 16,
   "metadata": {
    "collapsed": false
   },
   "outputs": [
    {
     "name": "stdout",
     "output_type": "stream",
     "text": [
      "['karl', 'karlson', 'karlsons', 'karlchen']\n",
      "['karlchen']\n",
      "['karlson', 'karlsons']\n",
      "['something', 'karl', 'karlson', 'karlsons', 'karlchen']\n",
      "[]\n",
      "['something']\n"
     ]
    }
   ],
   "source": [
    "trie = RadixTreeNode()\n",
    "trie.insert('karl', 10)\n",
    "trie.insert('karlchen', 13)\n",
    "trie.insert('karlson', 3)\n",
    "trie.insert('karlsons', 7)\n",
    "trie.insert('something', 1)\n",
    "\n",
    "assert trie.has_key('karlchen') is True\n",
    "assert trie.get_value('karlchen') == 13\n",
    "assert trie.has_key('nothing') is False\n",
    "assert trie.get_value('nothing') == None\n",
    "\n",
    "print(trie.start_with_prefix('karl'))\n",
    "print(trie.start_with_prefix('karlc'))\n",
    "print(trie.start_with_prefix('karlson'))\n",
    "print(trie.start_with_prefix(''))\n",
    "print(trie.start_with_prefix('nothing'))\n",
    "print(trie.start_with_prefix('s'))\n"
   ]
  },
  {
   "cell_type": "code",
   "execution_count": 17,
   "metadata": {
    "collapsed": false
   },
   "outputs": [
    {
     "data": {
      "text/plain": [
       "10"
      ]
     },
     "execution_count": 17,
     "metadata": {},
     "output_type": "execute_result"
    }
   ],
   "source": [
    "trie.get_value('karl')"
   ]
  },
  {
   "cell_type": "markdown",
   "metadata": {},
   "source": [
    "Die Implementierung kann nicht nur mit String-Keys umgehen, sondern auch mir anderen Listen als Keys. Dem Konstruktor muss hierfür eine leeres Listen-Object und eine entsprechende key_concatenation_func übergeben werden. "
   ]
  },
  {
   "cell_type": "code",
   "execution_count": 18,
   "metadata": {
    "collapsed": false
   },
   "outputs": [
    {
     "ename": "AttributeError",
     "evalue": "'list' object has no attribute 'startswith'",
     "output_type": "error",
     "traceback": [
      "\u001b[0;31m---------------------------------------------------------------------------\u001b[0m",
      "\u001b[0;31mAttributeError\u001b[0m                            Traceback (most recent call last)",
      "\u001b[0;32m<ipython-input-18-c6c2ccd512b8>\u001b[0m in \u001b[0;36m<module>\u001b[0;34m()\u001b[0m\n\u001b[1;32m      9\u001b[0m \u001b[0mngram_trie\u001b[0m\u001b[0;34m.\u001b[0m\u001b[0minsert\u001b[0m\u001b[0;34m(\u001b[0m\u001b[0;34m[\u001b[0m\u001b[0;34m\"ein\"\u001b[0m\u001b[0;34m,\u001b[0m\u001b[0;34m\"tag\"\u001b[0m\u001b[0;34m,\u001b[0m \u001b[0;34m\"im\"\u001b[0m\u001b[0;34m,\u001b[0m \u001b[0;34m\"mai\"\u001b[0m\u001b[0;34m]\u001b[0m\u001b[0;34m,\u001b[0m \u001b[0;36m1\u001b[0m\u001b[0;34m)\u001b[0m\u001b[0;34m\u001b[0m\u001b[0m\n\u001b[1;32m     10\u001b[0m \u001b[0;34m\u001b[0m\u001b[0m\n\u001b[0;32m---> 11\u001b[0;31m \u001b[0;32massert\u001b[0m \u001b[0mngram_trie\u001b[0m\u001b[0;34m.\u001b[0m\u001b[0mget_value\u001b[0m\u001b[0;34m(\u001b[0m\u001b[0;34m[\u001b[0m\u001b[0;34m\"ein\"\u001b[0m\u001b[0;34m,\u001b[0m\u001b[0;34m\"tag\"\u001b[0m\u001b[0;34m,\u001b[0m \u001b[0;34m\"im\"\u001b[0m\u001b[0;34m,\u001b[0m \u001b[0;34m\"mai\"\u001b[0m\u001b[0;34m]\u001b[0m\u001b[0;34m)\u001b[0m \u001b[0;34m==\u001b[0m \u001b[0;36m1\u001b[0m\u001b[0;34m\u001b[0m\u001b[0m\n\u001b[0m\u001b[1;32m     12\u001b[0m \u001b[0;32massert\u001b[0m \u001b[0mngram_trie\u001b[0m\u001b[0;34m.\u001b[0m\u001b[0mhas_key\u001b[0m\u001b[0;34m(\u001b[0m\u001b[0;34m[\u001b[0m\u001b[0;34m\"ein\"\u001b[0m\u001b[0;34m,\u001b[0m\u001b[0;34m\"tag\"\u001b[0m\u001b[0;34m,\u001b[0m \u001b[0;34m\"im\"\u001b[0m\u001b[0;34m]\u001b[0m\u001b[0;34m)\u001b[0m \u001b[0;32mis\u001b[0m \u001b[0;32mTrue\u001b[0m\u001b[0;34m\u001b[0m\u001b[0m\n\u001b[1;32m     13\u001b[0m \u001b[0;32massert\u001b[0m \u001b[0mngram_trie\u001b[0m\u001b[0;34m.\u001b[0m\u001b[0mhas_key\u001b[0m\u001b[0;34m(\u001b[0m\u001b[0;34m[\u001b[0m\u001b[0;34m\"tag\"\u001b[0m\u001b[0;34m,\u001b[0m \u001b[0;34m\"im\"\u001b[0m\u001b[0;34m,\u001b[0m \u001b[0;34m\"mai\"\u001b[0m\u001b[0;34m]\u001b[0m\u001b[0;34m)\u001b[0m \u001b[0;32mis\u001b[0m \u001b[0;32mFalse\u001b[0m\u001b[0;34m\u001b[0m\u001b[0m\n",
      "\u001b[0;32m<ipython-input-15-5dcc9e61feef>\u001b[0m in \u001b[0;36mget_value\u001b[0;34m(self, k)\u001b[0m\n\u001b[1;32m    100\u001b[0m         \u001b[0;32mif\u001b[0m \u001b[0mlen\u001b[0m\u001b[0;34m(\u001b[0m\u001b[0mk\u001b[0m\u001b[0;34m)\u001b[0m \u001b[0;34m==\u001b[0m \u001b[0;36m0\u001b[0m \u001b[0;32mor\u001b[0m \u001b[0mk\u001b[0m \u001b[0;34m==\u001b[0m \u001b[0mself\u001b[0m\u001b[0;34m.\u001b[0m\u001b[0m_prefix\u001b[0m\u001b[0;34m:\u001b[0m\u001b[0;34m\u001b[0m\u001b[0m\n\u001b[1;32m    101\u001b[0m             \u001b[0;32mreturn\u001b[0m \u001b[0mself\u001b[0m\u001b[0;34m.\u001b[0m\u001b[0m_value\u001b[0m\u001b[0;34m\u001b[0m\u001b[0m\n\u001b[0;32m--> 102\u001b[0;31m         \u001b[0;32mif\u001b[0m \u001b[0mk\u001b[0m\u001b[0;34m.\u001b[0m\u001b[0mstartswith\u001b[0m\u001b[0;34m(\u001b[0m\u001b[0mself\u001b[0m\u001b[0;34m.\u001b[0m\u001b[0m_prefix\u001b[0m\u001b[0;34m)\u001b[0m\u001b[0;34m:\u001b[0m\u001b[0;34m\u001b[0m\u001b[0m\n\u001b[0m\u001b[1;32m    103\u001b[0m             \u001b[0mi\u001b[0m \u001b[0;34m=\u001b[0m \u001b[0mlen\u001b[0m\u001b[0;34m(\u001b[0m\u001b[0mself\u001b[0m\u001b[0;34m.\u001b[0m\u001b[0m_prefix\u001b[0m\u001b[0;34m)\u001b[0m\u001b[0;34m\u001b[0m\u001b[0m\n\u001b[1;32m    104\u001b[0m             \u001b[0;32mif\u001b[0m \u001b[0mk\u001b[0m\u001b[0;34m[\u001b[0m\u001b[0mi\u001b[0m\u001b[0;34m]\u001b[0m \u001b[0;32mnot\u001b[0m \u001b[0;32min\u001b[0m \u001b[0mself\u001b[0m\u001b[0;34m.\u001b[0m\u001b[0m_children\u001b[0m\u001b[0;34m:\u001b[0m\u001b[0;34m\u001b[0m\u001b[0m\n",
      "\u001b[0;31mAttributeError\u001b[0m: 'list' object has no attribute 'startswith'"
     ]
    }
   ],
   "source": [
    "def append_to_list(a, b):\n",
    "    x = list(a)\n",
    "    x.append(b)\n",
    "    return x\n",
    "\n",
    "ngram_trie = RadixTreeNode(k=[], key_concatenation_func=append_to_list)\n",
    "\n",
    "ngram_trie.insert([\"ein\",\"tag\", \"im\"], 4) \n",
    "ngram_trie.insert([\"ein\",\"tag\", \"im\", \"mai\"], 1) \n",
    "\n",
    "assert ngram_trie.get_value([\"ein\",\"tag\", \"im\", \"mai\"]) == 1 \n",
    "assert ngram_trie.has_key([\"ein\",\"tag\", \"im\"]) is True\n",
    "assert ngram_trie.has_key([\"tag\", \"im\", \"mai\"]) is False\n",
    "\n",
    "print(ngram_trie.start_with_prefix(['ein','tag']))"
   ]
  },
  {
   "cell_type": "markdown",
   "metadata": {},
   "source": [
    "## Beispiel: Anwendung als Termlexikon\n",
    "\n",
    "Um die Trie-Implementierung als Term-Lexikon zu verwenden, kann die _update_value-Methode überschrieben werden. In diesem Beispiel soll die Korpusfrequenz (cf) als Value gespeichert werden."
   ]
  },
  {
   "cell_type": "code",
   "execution_count": 19,
   "metadata": {
    "collapsed": true
   },
   "outputs": [],
   "source": [
    "class TrieLexicon(TrieNode):\n",
    "    \n",
    "    #def __init__(self, k=\"\", key_concatenation_func=None):\n",
    "    #    super(TrieLexicon, self).__init__(k, key_concatenation_func)\n",
    "    \n",
    "    def _update_value(self, v):\n",
    "        \"\"\"\n",
    "         overwrite default behaviour\n",
    "        \"\"\"\n",
    "        if self._value == None:\n",
    "            self._value = v\n",
    "        else: \n",
    "            self._value += v "
   ]
  },
  {
   "cell_type": "code",
   "execution_count": 20,
   "metadata": {
    "collapsed": false
   },
   "outputs": [
    {
     "name": "stdout",
     "output_type": "stream",
     "text": [
      "adamant :  1\n",
      "advocacy :  1\n",
      "administration :  2\n",
      "administrators :  1\n",
      "adjournment :  2\n",
      "adjustments :  1\n",
      "additional :  2\n",
      "added :  3\n"
     ]
    }
   ],
   "source": [
    "from nltk.corpus import brown\n",
    "brown_news_words = brown.words(categories='news')\n",
    "\n",
    "lexicon = TrieLexicon()\n",
    "\n",
    "for w in brown_news_words[0:3000] :\n",
    "    # here we can do some normalization\n",
    "    lexicon.insert(w, 1)\n",
    "    \n",
    "for k in lexicon.start_with_prefix(\"ad\"):\n",
    "    print(k, \": \", lexicon.get_value(k)) "
   ]
  }
 ],
 "metadata": {
  "kernelspec": {
   "display_name": "Python 3",
   "language": "python",
   "name": "python3"
  },
  "language_info": {
   "codemirror_mode": {
    "name": "ipython",
    "version": 3
   },
   "file_extension": ".py",
   "mimetype": "text/x-python",
   "name": "python",
   "nbconvert_exporter": "python",
   "pygments_lexer": "ipython3",
   "version": "3.5.1rc1"
  }
 },
 "nbformat": 4,
 "nbformat_minor": 2
}
