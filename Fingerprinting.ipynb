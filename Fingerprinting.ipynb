{
 "cells": [
  {
   "cell_type": "markdown",
   "metadata": {},
   "source": [
    "# Fingerprinting\n",
    "Entsprechend der OpenRefine-Implementierung basierend auf der Implementierung in https://gist.github.com/cjdd3b/0386f139bb953f046c6e"
   ]
  },
  {
   "cell_type": "code",
   "execution_count": 1,
   "metadata": {
    "collapsed": true
   },
   "outputs": [],
   "source": [
    "# -*- coding: utf-8 -*-\n",
    "\n",
    "import re, string\n",
    "#from unidecode import unidecode\n",
    "\n",
    "PUNCTUATION = re.compile('[ %s]' % re.escape(string.punctuation))\n",
    "\n",
    "class Fingerprinter(object):\n",
    "    '''\n",
    "    Python implementation of Google Refine fingerprinting algorithm described here:\n",
    "    https://github.com/OpenRefine/OpenRefine/wiki/Clustering-In-Depth\n",
    "    Requires the unidecode module: https://github.com/iki/unidecode\n",
    "    '''\n",
    "    def __init__(self, string):\n",
    "        self.string = self._preprocess(string)\n",
    "\n",
    "    def _preprocess(self, string):\n",
    "        '''\n",
    "        Strip leading and trailing whitespace, lowercase the string, remove all punctuation,\n",
    "        in that order.\n",
    "        '''\n",
    "        return PUNCTUATION.sub('', string.strip().lower())\n",
    "\n",
    "    def _latinize(self, string):\n",
    "        '''\n",
    "        Replaces unicode characters with closest Latin equivalent. For example,\n",
    "        Alejandro González Iñárritu becomes Alejando Gonzalez Inarritu.\n",
    "        '''\n",
    "        return string #.decode('utf-8')\n",
    "\n",
    "    def _unique_preserving_order(self, seq):\n",
    "        '''\n",
    "        Returns unique tokens in a list, preserving order. Fastest version found in this\n",
    "        exercise: http://www.peterbe.com/plog/uniqifiers-benchmark\n",
    "        '''\n",
    "        seen = set()\n",
    "        seen_add = seen.add\n",
    "        return [x for x in seq if not (x in seen or seen_add(x))]\n",
    "        \n",
    "    def get_fingerprint(self):\n",
    "        '''\n",
    "        Gets conventional fingerpint.\n",
    "        '''\n",
    "        return self._latinize(''.join(\n",
    "            self._unique_preserving_order(\n",
    "                sorted(self.string.split())\n",
    "            )\n",
    "        ))\n",
    "\n",
    "    def get_ngram_fingerprint(self, n=1):\n",
    "        '''\n",
    "        Gets ngram fingerpint based on n-length shingles of the string.\n",
    "        Default is 1.\n",
    "        '''\n",
    "        return self._latinize(''.join(\n",
    "            self._unique_preserving_order(\n",
    "                sorted([self.string[i:i + n] for i in range(len(self.string) - n + 1)])\n",
    "            )\n",
    "        ))"
   ]
  },
  {
   "cell_type": "code",
   "execution_count": 4,
   "metadata": {
    "collapsed": true
   },
   "outputs": [],
   "source": [
    "def n_gram_fingerprinting (s, n=2):\n",
    "    PUNCTUATION = re.compile('[%s]' % re.escape(string.punctuation))\n",
    "    s = ''.join(sorted(s.split(' ')))\n",
    "    s = PUNCTUATION.sub('', s.strip().lower())\n",
    "    sorted_ngrams = sorted([s[i:i + n] for i in range(len(s) - n + 1)])\n",
    "    seen = set()\n",
    "    seen_add = seen.add\n",
    "    return ''.join([x for x in sorted_ngrams if not (x in seen or seen_add(x))])"
   ]
  },
  {
   "cell_type": "code",
   "execution_count": 33,
   "metadata": {
    "collapsed": false
   },
   "outputs": [
    {
     "name": "stdout",
     "output_type": "stream",
     "text": [
      "tomcruise\n",
      "crismcomrusetoui\n"
     ]
    }
   ],
   "source": [
    "f = Fingerprinter('Tom Cruise')\n",
    "print(f.get_fingerprint())\n",
    "print(f.get_ngram_fingerprint(n=2))"
   ]
  },
  {
   "cell_type": "code",
   "execution_count": 34,
   "metadata": {
    "collapsed": false
   },
   "outputs": [
    {
     "name": "stdout",
     "output_type": "stream",
     "text": [
      "cruisetom\n",
      "cretisomrusetoui\n"
     ]
    }
   ],
   "source": [
    "f = Fingerprinter('Cruise, Tom')\n",
    "print(f.get_fingerprint())\n",
    "print(f.get_ngram_fingerprint(n=2))"
   ]
  },
  {
   "cell_type": "code",
   "execution_count": 14,
   "metadata": {
    "collapsed": false
   },
   "outputs": [
    {
     "name": "stdout",
     "output_type": "stream",
     "text": [
      "asbaebegflgeiskulepfrssiskur\n",
      "abefgiklprsu\n"
     ]
    }
   ],
   "source": [
    "f = Fingerprinter('Pflege Basis-Kurs')\n",
    "print(f.get_ngram_fingerprint(n=2))\n",
    "print(n_gram_fingerprinting('Pflege Basis Kurs',n=1))"
   ]
  },
  {
   "cell_type": "code",
   "execution_count": 17,
   "metadata": {
    "collapsed": false
   },
   "outputs": [
    {
     "name": "stdout",
     "output_type": "stream",
     "text": [
      "asbaebegflgeiskulepfrssiskur\n",
      "abefgiklprsu\n"
     ]
    }
   ],
   "source": [
    "f = Fingerprinter('Pflege-Basiskurs')\n",
    "print(f.get_ngram_fingerprint(n=2))\n",
    "print(n_gram_fingerprinting('Pflege-Basis-Kurs',n=1))"
   ]
  },
  {
   "cell_type": "code",
   "execution_count": 19,
   "metadata": {
    "collapsed": false
   },
   "outputs": [
    {
     "name": "stdout",
     "output_type": "stream",
     "text": [
      "asbaebegflgeiskulepfrssiskur\n",
      "auchhukultrascsstuulurus\n"
     ]
    }
   ],
   "source": [
    "f = Fingerprinter('Pflegebasiskurs')\n",
    "print(f.get_ngram_fingerprint(n=2))\n",
    "print(n_gram_fingerprinting('Kulturauschuss',n=2))"
   ]
  },
  {
   "cell_type": "code",
   "execution_count": 60,
   "metadata": {
    "collapsed": false
   },
   "outputs": [
    {
     "name": "stdout",
     "output_type": "stream",
     "text": [
      "basiskurspflege\n",
      "asbaegflgeiskulepfrssiskspur\n"
     ]
    }
   ],
   "source": [
    "f = Fingerprinter('Basis Kurs \"Pflege\"')\n",
    "print(f.get_fingerprint())\n",
    "print(f.get_ngram_fingerprint(n=2))"
   ]
  },
  {
   "cell_type": "code",
   "execution_count": 25,
   "metadata": {
    "collapsed": false
   },
   "outputs": [
    {
     "name": "stdout",
     "output_type": "stream",
     "text": [
      "acaschefflhelasc\n",
      "asaucherffflhelaofrssascsttoue\n"
     ]
    }
   ],
   "source": [
    "print(n_gram_fingerprinting('flache Flasche',n=2))\n",
    "print(n_gram_fingerprinting('Sauerstoffflasche',n=2))"
   ]
  },
  {
   "cell_type": "code",
   "execution_count": 10,
   "metadata": {
    "collapsed": false
   },
   "outputs": [
    {
     "name": "stdout",
     "output_type": "stream",
     "text": [
      "atdeelenesikkalinfsesste\n",
      "atdeelenesikkalinfnssesste\n"
     ]
    }
   ],
   "source": [
    "print(n_gram_fingerprinting('Delikatesssenf',n=2))\n",
    "print(n_gram_fingerprinting('Delikatessensenf',n=2))"
   ]
  }
 ],
 "metadata": {
  "kernelspec": {
   "display_name": "Python 3",
   "language": "python",
   "name": "python3"
  },
  "language_info": {
   "codemirror_mode": {
    "name": "ipython",
    "version": 3
   },
   "file_extension": ".py",
   "mimetype": "text/x-python",
   "name": "python",
   "nbconvert_exporter": "python",
   "pygments_lexer": "ipython3",
   "version": "3.5.1rc1"
  }
 },
 "nbformat": 4,
 "nbformat_minor": 1
}
