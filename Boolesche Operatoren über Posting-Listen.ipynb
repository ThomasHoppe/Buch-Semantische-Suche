{
 "cells": [
  {
   "cell_type": "code",
   "execution_count": 1,
   "metadata": {
    "collapsed": false
   },
   "outputs": [],
   "source": [
    "# Generation of some arificial sample document IDs\n",
    "HarryPotter = [2**s for s in range(1,8)]\n",
    "ChoChang = [8,16,32,128]\n",
    "Eberkopf = [32, 128]\n",
    "Dobby = [4, 16, 32, 64, 128]"
   ]
  },
  {
   "cell_type": "code",
   "execution_count": 3,
   "metadata": {
    "collapsed": false
   },
   "outputs": [],
   "source": [
    "def AND_Operator(a,b):\n",
    "    # a and b of type ordered list\n",
    "    sortedList = []\n",
    "    p1 = p2 = 0 \n",
    "\n",
    "    while (p1 < len(a) and p2 < len(b)):\n",
    "        if a[p1] == b[p2]:\n",
    "            sortedList.append(a[p1])\n",
    "            p1 += 1\n",
    "            p2 += 1\n",
    "        else:\n",
    "            if (a[p1] < b[p2]):\n",
    "                p1 += 1\n",
    "            else:\n",
    "                p2 += 1\n",
    "    return(sortedList)"
   ]
  },
  {
   "cell_type": "code",
   "execution_count": 9,
   "metadata": {
    "collapsed": false
   },
   "outputs": [],
   "source": [
    "assert AND_Operator(HarryPotter,ChoChang) == [8, 16, 32, 128], \"Implementation erroneous\""
   ]
  },
  {
   "cell_type": "markdown",
   "metadata": {},
   "source": [
    "# Aufgabe 3.4\n",
    "Wie kann der Aufruf des AND-Operators erfolgen, um eine Anfrage bestehend aus einer Liste von mehr als zwei Suchbegriffen so effizient wie möglich zu verarbeiten?"
   ]
  },
  {
   "cell_type": "code",
   "execution_count": 11,
   "metadata": {
    "collapsed": false
   },
   "outputs": [],
   "source": [
    "def optimized_AND_operator(queryTermList):\n",
    "    sortedList = sorted(queryTermList,key=len)\n",
    "    \n",
    "    result = sortedList[0]\n",
    "    p = 1\n",
    "    \n",
    "    # your implementation here \n",
    "    \n",
    "    return(result)    "
   ]
  },
  {
   "cell_type": "code",
   "execution_count": 15,
   "metadata": {
    "collapsed": false
   },
   "outputs": [],
   "source": [
    "assert optimized_AND_operator([HarryPotter,ChoChang, Eberkopf]) == [32, 128], \"Implementation erroneous\""
   ]
  },
  {
   "cell_type": "markdown",
   "metadata": {},
   "source": [
    "# Aufgabe 3.5\n",
    "Implementieren Sie analog zum AND-Operator einen OR-Operator, der die Sortierung der Posting-Liste optimal nutzt."
   ]
  },
  {
   "cell_type": "code",
   "execution_count": 62,
   "metadata": {
    "collapsed": false
   },
   "outputs": [],
   "source": [
    "def OR_Operator(a,b):\n",
    "    # a and b of type ordered list\n",
    "    sortedList = []\n",
    "    p1 = p2 = 0   \n",
    "\n",
    "    # your implementation here \n",
    "            \n",
    "    return(answer)"
   ]
  },
  {
   "cell_type": "code",
   "execution_count": 64,
   "metadata": {
    "collapsed": false,
    "scrolled": true
   },
   "outputs": [
    {
     "data": {
      "text/plain": [
       "[8, 16, 31, 32, 128]"
      ]
     },
     "execution_count": 64,
     "metadata": {},
     "output_type": "execute_result"
    }
   ],
   "source": [
    "assert OR_Operator(ChoChang,Eberkopf) == [8, 16, 31, 32, 128], \"Implementation erroneous\""
   ]
  },
  {
   "cell_type": "markdown",
   "metadata": {},
   "source": [
    "# Aufgabe 3.6\n",
    "Implementieren Sie analog zum AND-Operator einen ANDNOT-Operator, der die Sortierung der Posting-Liste optimal nutzt."
   ]
  },
  {
   "cell_type": "code",
   "execution_count": 45,
   "metadata": {
    "collapsed": false
   },
   "outputs": [],
   "source": [
    "def ANDNOT_Operator(a,b):\n",
    "    # a and b of type ordered list\n",
    "    sortedList = []\n",
    "    p1 = p2 = 0 \n",
    "\n",
    "    # your implementation here \n",
    "    \n",
    "    return(sortedList)"
   ]
  },
  {
   "cell_type": "code",
   "execution_count": 59,
   "metadata": {
    "collapsed": false
   },
   "outputs": [
    {
     "data": {
      "text/plain": [
       "[2, 4, 8, 16]"
      ]
     },
     "execution_count": 59,
     "metadata": {},
     "output_type": "execute_result"
    }
   ],
   "source": [
    "assert ANDNOT_Operator(HarryPotter,Eberkopf) == [2, 4, 8, 16], \"Implementation erroneous\""
   ]
  },
  {
   "cell_type": "code",
   "execution_count": null,
   "metadata": {
    "collapsed": true
   },
   "outputs": [],
   "source": []
  },
  {
   "cell_type": "code",
   "execution_count": 2,
   "metadata": {
    "collapsed": true
   },
   "outputs": [],
   "source": [
    "to = [(4,[8,16,190,431,433])]\n",
    "be = [(4,[17,292,392,430,434])]"
   ]
  },
  {
   "cell_type": "code",
   "execution_count": 4,
   "metadata": {
    "collapsed": false
   },
   "outputs": [],
   "source": [
    "def NEAR_Operator(a,b,k = 3):\n",
    "    sortedList = []\n",
    "    p1 = p2 = 0 \n",
    "\n",
    "    while (p1 < len(a) and p2 < len(b)):\n",
    "        if a[p1][0] == b[p2][0]:\n",
    "            positions = []\n",
    "            # pp1 and pp2 are pointers on position lists\n",
    "            pp1 = pp2 = 0\n",
    "            # ap and bp are the position lists \n",
    "            ap = a[p1][1]\n",
    "            bp = b[p2][1]\n",
    "            while ( pp1 < len(ap) and pp2 < len(bp) ):\n",
    "                if abs(ap[pp1]-bp[pp2]) <= k:\n",
    "                    # positions are closer than k\n",
    "                    positions.append(bp[pp2] if ap[pp1] <= bp[pp2] else ap[pp1])\n",
    "                    pp1 += 1\n",
    "                    pp2 += 1\n",
    "                else:\n",
    "                    if ap[pp1] < bp[pp2]: # advance position pointers\n",
    "                        pp1 += 1\n",
    "                    else:\n",
    "                        pp2 += 1\n",
    "            if positions:\n",
    "                # if position candidates could be found the document\n",
    "                sortedList.append((a[p1][0],positions))\n",
    "            p1 += 1\n",
    "            p2 += 1\n",
    "        else:\n",
    "            if (a[p1][0] < b[p2][0]): # advance smaller pointer\n",
    "                p1 += 1\n",
    "            else:\n",
    "                p2 += 1\n",
    "    return(sortedList)"
   ]
  },
  {
   "cell_type": "code",
   "execution_count": 6,
   "metadata": {
    "collapsed": false
   },
   "outputs": [
    {
     "data": {
      "text/plain": [
       "[(4, [17, 431, 434])]"
      ]
     },
     "execution_count": 6,
     "metadata": {},
     "output_type": "execute_result"
    }
   ],
   "source": [
    "NEAR_Operator(to,be) #,explain  = True)"
   ]
  },
  {
   "cell_type": "code",
   "execution_count": 7,
   "metadata": {
    "collapsed": false
   },
   "outputs": [],
   "source": [
    "def NEAR_Operator2(a,b,k = 3,ordered = False):\n",
    "    sortedList = []\n",
    "    p1 = p2 = 0 \n",
    "\n",
    "    while (p1 < len(a) and p2 < len(b)):\n",
    "        if a[p1][0] == b[p2][0]:\n",
    "            positions = []\n",
    "            # pp1 and pp2 are pointers on position lists\n",
    "            pp1 = pp2 = 0\n",
    "            # ap and bp are the position lists \n",
    "            ap = a[p1][1]\n",
    "            bp = b[p2][1]\n",
    "            while ( pp1 < len(ap) and pp2 < len(bp) ):\n",
    "                diff = bp[pp2] - ap[pp1]\n",
    "                if abs(diff) <= k:\n",
    "                    if ordered and diff > 0 and diff <= k:\n",
    "                        # positions are closer than k\n",
    "                         positions.append(bp[pp2])\n",
    "                    elif not ordered:\n",
    "                        positions.append(bp[pp2] if ap[pp1] <= bp[pp2] else ap[pp1])\n",
    "                    pp1 += 1\n",
    "                    pp2 += 1\n",
    "                else:\n",
    "                    if ap[pp1] < bp[pp2]: # advance position pointers\n",
    "                        pp1 += 1\n",
    "                    else:\n",
    "                        pp2 += 1\n",
    "            if positions:\n",
    "                # if position candidates could be found the document\n",
    "                sortedList.append((a[p1][0],positions))\n",
    "            p1 += 1\n",
    "            p2 += 1\n",
    "        else:\n",
    "            if (a[p1][0] < b[p2][0]): # advance smaller pointer\n",
    "                p1 += 1\n",
    "            else:\n",
    "                p2 += 1\n",
    "    return(sortedList)"
   ]
  },
  {
   "cell_type": "code",
   "execution_count": 8,
   "metadata": {
    "collapsed": true
   },
   "outputs": [],
   "source": [
    "HarryPotter = [(2,[1]), \n",
    "               (4,[]), \n",
    "               (8,[5,38,117,587]),\n",
    "               (16,[23,45,215,218]), \n",
    "               (32,[]),\n",
    "               (64,[]),\n",
    "               (128,[])]\n",
    "ChoChang = [(8,[212,386,574]),\n",
    "            (16,[78,216,217,309,472]),\n",
    "            (32,[]),\n",
    "            (128,[])]"
   ]
  },
  {
   "cell_type": "code",
   "execution_count": 9,
   "metadata": {
    "collapsed": false
   },
   "outputs": [
    {
     "data": {
      "text/plain": [
       "[(16, [216, 218])]"
      ]
     },
     "execution_count": 9,
     "metadata": {},
     "output_type": "execute_result"
    }
   ],
   "source": [
    "NEAR_Operator2(HarryPotter,ChoChang,k=1,ordered=False) #3, 27, 40"
   ]
  },
  {
   "cell_type": "code",
   "execution_count": 241,
   "metadata": {
    "collapsed": true
   },
   "outputs": [],
   "source": [
    "def Phrase_Operator(a,b):\n",
    "    sortedList = []\n",
    "    p1 = p2 = 0 \n",
    "\n",
    "    while (p1 < len(a) and p2 < len(b)):\n",
    "        if a[p1][0] == b[p2][0]:\n",
    "            positions = []\n",
    "            # pp1 and pp2 are pointers on position lists\n",
    "            pp1 = pp2 = 0\n",
    "            # ap and bp are the position lists \n",
    "            ap = a[p1][1]\n",
    "            bp = b[p2][1]\n",
    "            while ( pp1 < len(ap) and pp2 < len(bp) ):\n",
    "                if bp[pp2] - ap[pp1] == 1:\n",
    "                    # positions are closer than k\n",
    "                    positions.append(bp[pp2])\n",
    "                    pp1 += 1\n",
    "                    pp2 += 1\n",
    "                else:\n",
    "                    # advance position pointers\n",
    "                    if ap[pp1] < bp[pp2]:\n",
    "                        pp1 += 1\n",
    "                    else:\n",
    "                        pp2 += 1\n",
    "            if positions:\n",
    "                # just if positions candidates could be found the document should be returned \n",
    "                sortedList.append((a[p1][0],positions))\n",
    "            p1 += 1\n",
    "            p2 += 1\n",
    "        else:\n",
    "            if (a[p1][0] < b[p2][0]):\n",
    "                p1 += 1\n",
    "            else:\n",
    "                p2 += 1\n",
    "    return(sortedList)"
   ]
  },
  {
   "cell_type": "code",
   "execution_count": 242,
   "metadata": {
    "collapsed": false
   },
   "outputs": [
    {
     "data": {
      "text/plain": [
       "[(16, [216])]"
      ]
     },
     "execution_count": 242,
     "metadata": {},
     "output_type": "execute_result"
    }
   ],
   "source": [
    "Phrase_Operator(HarryPotter,ChoChang) #3, 27, 40"
   ]
  },
  {
   "cell_type": "code",
   "execution_count": 166,
   "metadata": {
    "collapsed": true
   },
   "outputs": [],
   "source": [
    "import random\n",
    "x = set(range(5000000))"
   ]
  },
  {
   "cell_type": "code",
   "execution_count": 198,
   "metadata": {
    "collapsed": false
   },
   "outputs": [],
   "source": [
    "a = set(random.sample(x,2500000))\n",
    "b = set(random.sample(x,25000))\n",
    "al = sorted(a)\n",
    "bl = sorted(b)"
   ]
  },
  {
   "cell_type": "code",
   "execution_count": 199,
   "metadata": {
    "collapsed": false
   },
   "outputs": [
    {
     "name": "stdout",
     "output_type": "stream",
     "text": [
      "Wall time: 15.6 ms\n"
     ]
    }
   ],
   "source": [
    "%%time \n",
    "y = a.intersection(b)\n",
    "sorted(y)"
   ]
  },
  {
   "cell_type": "code",
   "execution_count": 200,
   "metadata": {
    "collapsed": false
   },
   "outputs": [
    {
     "name": "stdout",
     "output_type": "stream",
     "text": [
      "Wall time: 1.19 s\n"
     ]
    }
   ],
   "source": [
    "%%time \n",
    "_ = repeated_AND([al,bl])"
   ]
  },
  {
   "cell_type": "code",
   "execution_count": 201,
   "metadata": {
    "collapsed": false
   },
   "outputs": [
    {
     "name": "stdout",
     "output_type": "stream",
     "text": [
      "Wall time: 1.15 s\n"
     ]
    }
   ],
   "source": [
    "%%time \n",
    "_ = AND_Operator(al,bl)"
   ]
  },
  {
   "cell_type": "code",
   "execution_count": null,
   "metadata": {
    "collapsed": true
   },
   "outputs": [],
   "source": []
  }
 ],
 "metadata": {
  "kernelspec": {
   "display_name": "Python 3",
   "language": "python",
   "name": "python3"
  },
  "language_info": {
   "codemirror_mode": {
    "name": "ipython",
    "version": 3
   },
   "file_extension": ".py",
   "mimetype": "text/x-python",
   "name": "python",
   "nbconvert_exporter": "python",
   "pygments_lexer": "ipython3",
   "version": "3.5.1rc1"
  }
 },
 "nbformat": 4,
 "nbformat_minor": 0
}
